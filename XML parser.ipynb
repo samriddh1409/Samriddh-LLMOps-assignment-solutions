{
 "cells": [
  {
   "cell_type": "code",
   "execution_count": 1,
   "id": "6b3d01c2",
   "metadata": {},
   "outputs": [
    {
     "name": "stdout",
     "output_type": "stream",
     "text": [
      "Requirement already satisfied: langchain-openai in c:\\users\\samriddh.shourya\\appdata\\local\\anaconda3\\lib\\site-packages (0.1.8)\n",
      "Requirement already satisfied: langchain-core<0.3,>=0.2.2 in c:\\users\\samriddh.shourya\\appdata\\local\\anaconda3\\lib\\site-packages (from langchain-openai) (0.2.5)\n",
      "Requirement already satisfied: openai<2.0.0,>=1.26.0 in c:\\users\\samriddh.shourya\\appdata\\local\\anaconda3\\lib\\site-packages (from langchain-openai) (1.34.0)\n",
      "Requirement already satisfied: tiktoken<1,>=0.7 in c:\\users\\samriddh.shourya\\appdata\\local\\anaconda3\\lib\\site-packages (from langchain-openai) (0.7.0)\n",
      "Requirement already satisfied: PyYAML>=5.3 in c:\\users\\samriddh.shourya\\appdata\\local\\anaconda3\\lib\\site-packages (from langchain-core<0.3,>=0.2.2->langchain-openai) (6.0.1)\n",
      "Requirement already satisfied: jsonpatch<2.0,>=1.33 in c:\\users\\samriddh.shourya\\appdata\\local\\anaconda3\\lib\\site-packages (from langchain-core<0.3,>=0.2.2->langchain-openai) (1.33)\n",
      "Requirement already satisfied: langsmith<0.2.0,>=0.1.66 in c:\\users\\samriddh.shourya\\appdata\\local\\anaconda3\\lib\\site-packages (from langchain-core<0.3,>=0.2.2->langchain-openai) (0.1.77)\n",
      "Requirement already satisfied: packaging<24.0,>=23.2 in c:\\users\\samriddh.shourya\\appdata\\local\\anaconda3\\lib\\site-packages (from langchain-core<0.3,>=0.2.2->langchain-openai) (23.2)\n",
      "Requirement already satisfied: pydantic<3,>=1 in c:\\users\\samriddh.shourya\\appdata\\local\\anaconda3\\lib\\site-packages (from langchain-core<0.3,>=0.2.2->langchain-openai) (1.10.12)\n",
      "Requirement already satisfied: tenacity<9.0.0,>=8.1.0 in c:\\users\\samriddh.shourya\\appdata\\local\\anaconda3\\lib\\site-packages (from langchain-core<0.3,>=0.2.2->langchain-openai) (8.2.2)\n",
      "Requirement already satisfied: anyio<5,>=3.5.0 in c:\\users\\samriddh.shourya\\appdata\\local\\anaconda3\\lib\\site-packages (from openai<2.0.0,>=1.26.0->langchain-openai) (3.5.0)\n",
      "Requirement already satisfied: distro<2,>=1.7.0 in c:\\users\\samriddh.shourya\\appdata\\local\\anaconda3\\lib\\site-packages (from openai<2.0.0,>=1.26.0->langchain-openai) (1.9.0)\n",
      "Requirement already satisfied: httpx<1,>=0.23.0 in c:\\users\\samriddh.shourya\\appdata\\local\\anaconda3\\lib\\site-packages (from openai<2.0.0,>=1.26.0->langchain-openai) (0.27.0)\n",
      "Requirement already satisfied: sniffio in c:\\users\\samriddh.shourya\\appdata\\local\\anaconda3\\lib\\site-packages (from openai<2.0.0,>=1.26.0->langchain-openai) (1.2.0)\n",
      "Requirement already satisfied: tqdm>4 in c:\\users\\samriddh.shourya\\appdata\\local\\anaconda3\\lib\\site-packages (from openai<2.0.0,>=1.26.0->langchain-openai) (4.66.2)\n",
      "Requirement already satisfied: typing-extensions<5,>=4.7 in c:\\users\\samriddh.shourya\\appdata\\local\\anaconda3\\lib\\site-packages (from openai<2.0.0,>=1.26.0->langchain-openai) (4.7.1)\n",
      "Requirement already satisfied: regex>=2022.1.18 in c:\\users\\samriddh.shourya\\appdata\\local\\anaconda3\\lib\\site-packages (from tiktoken<1,>=0.7->langchain-openai) (2022.7.9)\n",
      "Requirement already satisfied: requests>=2.26.0 in c:\\users\\samriddh.shourya\\appdata\\local\\anaconda3\\lib\\site-packages (from tiktoken<1,>=0.7->langchain-openai) (2.31.0)\n",
      "Requirement already satisfied: idna>=2.8 in c:\\users\\samriddh.shourya\\appdata\\local\\anaconda3\\lib\\site-packages (from anyio<5,>=3.5.0->openai<2.0.0,>=1.26.0->langchain-openai) (3.4)\n",
      "Requirement already satisfied: certifi in c:\\users\\samriddh.shourya\\appdata\\local\\anaconda3\\lib\\site-packages (from httpx<1,>=0.23.0->openai<2.0.0,>=1.26.0->langchain-openai) (2023.7.22)\n",
      "Requirement already satisfied: httpcore==1.* in c:\\users\\samriddh.shourya\\appdata\\local\\anaconda3\\lib\\site-packages (from httpx<1,>=0.23.0->openai<2.0.0,>=1.26.0->langchain-openai) (1.0.5)\n",
      "Requirement already satisfied: h11<0.15,>=0.13 in c:\\users\\samriddh.shourya\\appdata\\local\\anaconda3\\lib\\site-packages (from httpcore==1.*->httpx<1,>=0.23.0->openai<2.0.0,>=1.26.0->langchain-openai) (0.14.0)\n",
      "Requirement already satisfied: jsonpointer>=1.9 in c:\\users\\samriddh.shourya\\appdata\\local\\anaconda3\\lib\\site-packages (from jsonpatch<2.0,>=1.33->langchain-core<0.3,>=0.2.2->langchain-openai) (2.1)\n",
      "Requirement already satisfied: orjson<4.0.0,>=3.9.14 in c:\\users\\samriddh.shourya\\appdata\\local\\anaconda3\\lib\\site-packages (from langsmith<0.2.0,>=0.1.66->langchain-core<0.3,>=0.2.2->langchain-openai) (3.10.1)\n",
      "Requirement already satisfied: charset-normalizer<4,>=2 in c:\\users\\samriddh.shourya\\appdata\\local\\anaconda3\\lib\\site-packages (from requests>=2.26.0->tiktoken<1,>=0.7->langchain-openai) (2.0.4)\n",
      "Requirement already satisfied: urllib3<3,>=1.21.1 in c:\\users\\samriddh.shourya\\appdata\\local\\anaconda3\\lib\\site-packages (from requests>=2.26.0->tiktoken<1,>=0.7->langchain-openai) (1.26.16)\n",
      "Requirement already satisfied: colorama in c:\\users\\samriddh.shourya\\appdata\\local\\anaconda3\\lib\\site-packages (from tqdm>4->openai<2.0.0,>=1.26.0->langchain-openai) (0.4.6)\n",
      "Note: you may need to restart the kernel to use updated packages.\n"
     ]
    }
   ],
   "source": [
    "pip install langchain-openai"
   ]
  },
  {
   "cell_type": "code",
   "execution_count": 2,
   "id": "127a1b82",
   "metadata": {},
   "outputs": [],
   "source": [
    "from langchain_openai import AzureChatOpenAI\n",
    "from langchain_core.output_parsers import CommaSeparatedListOutputParser\n",
    "from langchain_core.prompts import PromptTemplate\n",
    "from langchain.output_parsers import XMLOutputParser"
   ]
  },
  {
   "cell_type": "code",
   "execution_count": 7,
   "id": "286bb766",
   "metadata": {},
   "outputs": [],
   "source": [
    "azure_config = {\n",
    "    #enter credentials}\n",
    "\n",
    "llm = AzureChatOpenAI(temperature=0,\n",
    "                      api_key=azure_config[\"api-key\"],\n",
    "                      openai_api_version=azure_config[\"api_version\"],\n",
    "                      azure_endpoint=azure_config[\"base_url\"],\n",
    "                      model=azure_config[\"model_deployment\"],\n",
    "                      validate_base_url=False)\n",
    "\n",
    "model = llm"
   ]
  },
  {
   "cell_type": "code",
   "execution_count": 8,
   "id": "62a70789",
   "metadata": {},
   "outputs": [
    {
     "name": "stdout",
     "output_type": "stream",
     "text": [
      "1. Iron Man (2008)\n",
      "2. The Incredible Hulk (2008)\n",
      "3. Iron Man 2 (2010)\n",
      "4. Thor (2011)\n",
      "5. Captain America: The First Avenger (2011)\n",
      "6. The Avengers (2012)\n",
      "7. Iron Man 3 (2013)\n",
      "8. Thor: The Dark World (2013)\n",
      "9. Captain America: The Winter Soldier (2014)\n",
      "10. Guardians of the Galaxy (2014)\n",
      "11. Avengers: Age of Ultron (2015)\n",
      "12. Ant-Man (2015)\n",
      "13. Captain America: Civil War (2016)\n",
      "14. Doctor Strange (2016)\n",
      "15. Guardians of the Galaxy Vol. 2 (2017)\n",
      "16. Spider-Man: Homecoming (2017)\n",
      "17. Thor: Ragnarok (2017)\n",
      "18. Black Panther (2018)\n",
      "19. Avengers: Infinity War (2018)\n",
      "20. Ant-Man and The Wasp (2018)\n",
      "21. Captain Marvel (2019)\n",
      "22. Avengers: Endgame (2019)\n",
      "23. Spider-Man: Far From Home (2019)\n"
     ]
    }
   ],
   "source": [
    "author_query = \"Give all the marvel movies by Stan Lee.\"\n",
    "output = model.invoke(\n",
    "    f\"\"\"{author_query}\"\"\")\n",
    "print(output.content)"
   ]
  },
  {
   "cell_type": "code",
   "execution_count": 10,
   "id": "7939b89d",
   "metadata": {},
   "outputs": [
    {
     "name": "stdout",
     "output_type": "stream",
     "text": [
      "{'movies': [{'movie': [{'title': 'Iron Man'}, {'year': '2008'}]}, {'movie': [{'title': 'The Incredible Hulk'}, {'year': '2008'}]}, {'movie': [{'title': 'Iron Man 2'}, {'year': '2010'}]}, {'movie': [{'title': 'Thor'}, {'year': '2011'}]}, {'movie': [{'title': 'Captain America: The First Avenger'}, {'year': '2011'}]}, {'movie': [{'title': 'The Avengers'}, {'year': '2012'}]}, {'movie': [{'title': 'Iron Man 3'}, {'year': '2013'}]}, {'movie': [{'title': 'Thor: The Dark World'}, {'year': '2013'}]}, {'movie': [{'title': 'Captain America: The Winter Soldier'}, {'year': '2014'}]}, {'movie': [{'title': 'Guardians of the Galaxy'}, {'year': '2014'}]}, {'movie': [{'title': 'Avengers: Age of Ultron'}, {'year': '2015'}]}, {'movie': [{'title': 'Ant-Man'}, {'year': '2015'}]}, {'movie': [{'title': 'Captain America: Civil War'}, {'year': '2016'}]}, {'movie': [{'title': 'Doctor Strange'}, {'year': '2016'}]}, {'movie': [{'title': 'Guardians of the Galaxy Vol. 2'}, {'year': '2017'}]}, {'movie': [{'title': 'Spider-Man: Homecoming'}, {'year': '2017'}]}, {'movie': [{'title': 'Thor: Ragnarok'}, {'year': '2017'}]}, {'movie': [{'title': 'Black Panther'}, {'year': '2018'}]}, {'movie': [{'title': 'Avengers: Infinity War'}, {'year': '2018'}]}, {'movie': [{'title': 'Ant-Man and The Wasp'}, {'year': '2018'}]}, {'movie': [{'title': 'Captain Marvel'}, {'year': '2019'}]}, {'movie': [{'title': 'Avengers: Endgame'}, {'year': '2019'}]}, {'movie': [{'title': 'Spider-Man: Far From Home'}, {'year': '2019'}]}]}\n"
     ]
    }
   ],
   "source": [
    "xml_parser = XMLOutputParser()\n",
    "\n",
    "prompt = PromptTemplate(\n",
    "    template=\"\"\"{query}\\n{format_instructions}\"\"\",\n",
    "    input_variables=[\"query\"],\n",
    "    partial_variables={\"format_instructions\": xml_parser.get_format_instructions()},\n",
    ")\n",
    "\n",
    "chain = prompt | model | xml_parser\n",
    "\n",
    "output = chain.invoke({\"query\": author_query})\n",
    "print(output)"
   ]
  },
  {
   "cell_type": "code",
   "execution_count": null,
   "id": "f56357cb",
   "metadata": {},
   "outputs": [],
   "source": []
  }
 ],
 "metadata": {
  "kernelspec": {
   "display_name": "Python 3 (ipykernel)",
   "language": "python",
   "name": "python3"
  },
  "language_info": {
   "codemirror_mode": {
    "name": "ipython",
    "version": 3
   },
   "file_extension": ".py",
   "mimetype": "text/x-python",
   "name": "python",
   "nbconvert_exporter": "python",
   "pygments_lexer": "ipython3",
   "version": "3.11.5"
  }
 },
 "nbformat": 4,
 "nbformat_minor": 5
}
