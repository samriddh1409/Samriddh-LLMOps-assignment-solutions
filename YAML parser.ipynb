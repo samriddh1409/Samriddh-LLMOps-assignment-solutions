{
 "cells": [
  {
   "cell_type": "code",
   "execution_count": 5,
   "id": "726bc135",
   "metadata": {},
   "outputs": [],
   "source": [
    "from langchain.output_parsers import YamlOutputParser\n",
    "from langchain_core.prompts import PromptTemplate\n",
    "from langchain_core.pydantic_v1 import BaseModel, Field\n",
    "from langchain_openai import AzureChatOpenAI"
   ]
  },
  {
   "cell_type": "code",
   "execution_count": 6,
   "id": "2533b1ea",
   "metadata": {},
   "outputs": [],
   "source": [
    "azure_config = {\n",
    "# enter credentials here\n",
    "    }\n",
    "\n",
    "llm = AzureChatOpenAI(temperature=0,\n",
    "                      api_key=azure_config[\"api-key\"],\n",
    "                      openai_api_version=azure_config[\"api_version\"],\n",
    "                      azure_endpoint=azure_config[\"base_url\"],\n",
    "                      model=azure_config[\"model_deployment\"],\n",
    "                      validate_base_url=False)\n",
    "\n",
    "model = llm"
   ]
  },
  {
   "cell_type": "code",
   "execution_count": 9,
   "id": "b39c98e5",
   "metadata": {},
   "outputs": [],
   "source": [
    "class Poem(BaseModel):\n",
    "    setup: str = Field(description=\"question to recite a poem\")\n",
    "    poemline: str = Field(description=\"answer to recite a poem\")"
   ]
  },
  {
   "cell_type": "code",
   "execution_count": 10,
   "id": "a5b61b7d",
   "metadata": {},
   "outputs": [
    {
     "data": {
      "text/plain": [
       "Poem(setup='What is the meaning of life?', poemline='Life is a journey, a story to be told, filled with moments of love, and memories to hold.')"
      ]
     },
     "execution_count": 10,
     "metadata": {},
     "output_type": "execute_result"
    }
   ],
   "source": [
    "poem_query = \"Recite me a poem.\"\n",
    "\n",
    "# Set up a parser + inject instructions into the prompt template.\n",
    "yaml_parser = YamlOutputParser(pydantic_object=Poem)\n",
    "\n",
    "prompt = PromptTemplate(\n",
    "    template=\"Answer the user query.\\n{format_instructions}\\n{query}\\n\",\n",
    "    input_variables=[\"query\"],\n",
    "    partial_variables={\"format_instructions\": yaml_parser.get_format_instructions()},\n",
    ")\n",
    "\n",
    "chain = prompt | model | yaml_parser\n",
    "\n",
    "chain.invoke({\"query\": poem_query})"
   ]
  },
  {
   "cell_type": "code",
   "execution_count": null,
   "id": "31175f85",
   "metadata": {},
   "outputs": [],
   "source": []
  }
 ],
 "metadata": {
  "kernelspec": {
   "display_name": "Python 3 (ipykernel)",
   "language": "python",
   "name": "python3"
  },
  "language_info": {
   "codemirror_mode": {
    "name": "ipython",
    "version": 3
   },
   "file_extension": ".py",
   "mimetype": "text/x-python",
   "name": "python",
   "nbconvert_exporter": "python",
   "pygments_lexer": "ipython3",
   "version": "3.11.5"
  }
 },
 "nbformat": 4,
 "nbformat_minor": 5
}
